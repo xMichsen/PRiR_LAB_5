{
  "nbformat": 4,
  "nbformat_minor": 0,
  "metadata": {
    "colab": {
      "provenance": []
    },
    "kernelspec": {
      "name": "python3",
      "display_name": "Python 3"
    },
    "language_info": {
      "name": "python"
    }
  },
  "cells": [
    {
      "cell_type": "markdown",
      "source": [
        "# **Zadanie 1**\n",
        "\n",
        "Zaimplementuj w środowisku MPI obliczanie równoległe liczby PI z wzoru Leibniz-a."
      ],
      "metadata": {
        "id": "rDhH1iZnj9ez"
      }
    },
    {
      "cell_type": "code",
      "source": [
        "%%sh\n",
        "cat > pi-mpi.c << EOF\n",
        "#include <mpi.h>\n",
        "#include <stdio.h>\n",
        " \n",
        "\n",
        "// funkcja potęgująca bo funkcja w math.h pow nie działa \n",
        "\n",
        "double potegowanie(double a , int b )\n",
        "{\n",
        "      double result=1.0;\n",
        "      for (int i = 1; i <= b; i++)\n",
        "      {\n",
        "          result *= a;\n",
        "      }\n",
        "      return result; \n",
        "}\n",
        "\n",
        "int main(int argc, char **argv)\n",
        "{\n",
        "    int i,numer_procesu,liczba_procesow;\n",
        "    int tag=50;\n",
        "    MPI_Status status;\n",
        "    MPI_Init(&argc, &argv);\n",
        "    MPI_Comm_rank(MPI_COMM_WORLD, &numer_procesu);\n",
        "    MPI_Comm_size(MPI_COMM_WORLD, &liczba_procesow);\n",
        "\n",
        "    //if proces 0 to:\n",
        "    if(numer_procesu == 0)\n",
        "    {\n",
        "\n",
        "      double pole = 0 ,x=0;\n",
        "\n",
        "     //odbieranie oraz sumowanie wynikow z wszystkich procesow\n",
        "\n",
        "      for(i=1; i<liczba_procesow; i++)\n",
        "      {\n",
        "        MPI_Recv(&x, 1, MPI_DOUBLE, i, tag, MPI_COMM_WORLD, &status);\n",
        "        pole +=x;\n",
        "      }\n",
        "      printf(\"Wartosc liczby pi = %1f \\n\", 4 *  pole);\n",
        "    }\n",
        "\n",
        "    if(numer_procesu != 0)\n",
        "    {\n",
        "      double x = potegowanie( -1 , numer_procesu - 1   )   / ( 2 *  numer_procesu - 1  )   ; \n",
        "      printf(\"Wynik procesu %d to = %f \\n\" , numer_procesu , x);\n",
        "      //wysylanie liczby \n",
        "      MPI_Send(&x, 1, MPI_DOUBLE, 0, tag, MPI_COMM_WORLD);\n",
        "    }\n",
        "    MPI_Finalize();\n",
        "}\n",
        "EOF\n",
        "mpicc pi-mpi.c && mpirun -n 40 --allow-run-as-root a.out"
      ],
      "metadata": {
        "colab": {
          "base_uri": "https://localhost:8080/"
        },
        "id": "X9jXDgh_gvKg",
        "outputId": "b7a31c89-5812-4e3f-a62e-2be0488c55f8"
      },
      "execution_count": 44,
      "outputs": [
        {
          "output_type": "stream",
          "name": "stdout",
          "text": [
            "Wynik procesu 7 to = 0.076923 \n",
            "Wynik procesu 11 to = 0.047619 \n",
            "Wynik procesu 22 to = -0.023256 \n",
            "Wynik procesu 32 to = -0.015873 \n",
            "Wynik procesu 35 to = 0.014493 \n",
            "Wynik procesu 23 to = 0.022222 \n",
            "Wynik procesu 25 to = 0.020408 \n",
            "Wynik procesu 2 to = -0.333333 \n",
            "Wynik procesu 15 to = 0.034483 \n",
            "Wynik procesu 36 to = -0.014085 \n",
            "Wynik procesu 29 to = 0.017544 \n",
            "Wynik procesu 33 to = 0.015385 \n",
            "Wynik procesu 18 to = -0.028571 \n",
            "Wynik procesu 8 to = -0.066667 \n",
            "Wynik procesu 6 to = -0.090909 \n",
            "Wynik procesu 28 to = -0.018182 \n",
            "Wynik procesu 20 to = -0.025641 \n",
            "Wynik procesu 3 to = 0.200000 \n",
            "Wynik procesu 31 to = 0.016393 \n",
            "Wynik procesu 27 to = 0.018868 \n",
            "Wynik procesu 24 to = -0.021277 \n",
            "Wynik procesu 17 to = 0.030303 \n",
            "Wynik procesu 16 to = -0.032258 \n",
            "Wynik procesu 12 to = -0.043478 \n",
            "Wynik procesu 34 to = -0.014925 \n",
            "Wynik procesu 30 to = -0.016949 \n",
            "Wynik procesu 13 to = 0.040000 \n",
            "Wynik procesu 10 to = -0.052632 \n",
            "Wynik procesu 39 to = 0.012987 \n",
            "Wynik procesu 5 to = 0.111111 \n",
            "Wynik procesu 19 to = 0.027027 \n",
            "Wynik procesu 14 to = -0.037037 \n",
            "Wynik procesu 1 to = 1.000000 \n",
            "Wynik procesu 26 to = -0.019608 \n",
            "Wynik procesu 4 to = -0.142857 \n",
            "Wynik procesu 9 to = 0.058824 \n",
            "Wynik procesu 38 to = -0.013333 \n",
            "Wynik procesu 21 to = 0.024390 \n",
            "Wynik procesu 37 to = 0.013699 \n",
            "Wartosc liczby pi = 3.167229 \n"
          ]
        }
      ]
    },
    {
      "cell_type": "markdown",
      "source": [
        "# **Zadanie 2**\n",
        "\n",
        "Zaimplementuj w środowisku MPI wyznaczenie numerycznej wartość całki y=f(x) (postać funkcji \n",
        "wybierasz sam) w przedziale <a,b> przy pomocy N trapezów.\n",
        "Proces 0, to proces Root, który zarządza obliczeniami:\n",
        "- wysyła do procesów roboczych Slave początek a_local i koniec b_local lokalnego przedziału \n",
        "całkowania dla danego procesu oraz liczbę N_local trapezów, z których należy policzyć całkę\n",
        "- zbiera wyniki cząstkowe z procesów, i wyświetla wynik całki"
      ],
      "metadata": {
        "id": "mv6_py96kLrF"
      }
    },
    {
      "cell_type": "code",
      "source": [
        "%%sh\n",
        "cat > pi-mpi.c << EOF\n",
        "#include <mpi.h>\n",
        "#include <stdio.h>\n",
        " \n",
        "\n",
        "// moja funkcja\n",
        "double funkcja(double x)\n",
        "{\n",
        "  return x*x;\n",
        "}\n",
        "\n",
        "int main(int argc, char **argv)\n",
        "{\n",
        "    //tworzenie zmiennych globalnych\n",
        "    int i;\n",
        "    int liczba_procesow,numer_procesu;\n",
        "    int tag=50;\n",
        "    \n",
        "    MPI_Status status;\n",
        "    MPI_Init(&argc, &argv);\n",
        "    MPI_Comm_rank(MPI_COMM_WORLD, &numer_procesu);\n",
        "    MPI_Comm_size(MPI_COMM_WORLD, &liczba_procesow);\n",
        "\n",
        "    double l_procesow = liczba_procesow, n_procesu = numer_procesu;\n",
        "\n",
        "    double granica_dolna_calki = 1,granica_gorna_calki = 4;\n",
        "    double h = (granica_gorna_calki - granica_dolna_calki) / l_procesow;\n",
        "    \n",
        "    //if proces 0 to:\n",
        "    if(numer_procesu == 0)\n",
        "    {\n",
        "\n",
        "      double calka = 0 ,s=0;\n",
        "      printf(\"\\n Wyznaczanie numerycznej wartości całki: \");\n",
        "\n",
        "      //odbieranie i sumowanie wynikow z wszystkich procesow\n",
        "\n",
        "      for(i=1; i<liczba_procesow; i++)\n",
        "      {\n",
        "        MPI_Recv(&s, 1, MPI_DOUBLE, i, tag, MPI_COMM_WORLD, &status);\n",
        "        calka +=s;\n",
        "      }\n",
        "\n",
        "      printf(\" Wartosc calki = %1f\\n\", h * (funkcja(granica_dolna_calki)/2 + calka \n",
        "        + funkcja(granica_gorna_calki)/2));\n",
        "    }\n",
        "\n",
        "    if(numer_procesu != 0)\n",
        "    {\n",
        "        double xi,wynik;\n",
        "        n_procesu = numer_procesu;\n",
        "        xi = granica_dolna_calki + (n_procesu/l_procesow) \n",
        "            * (granica_gorna_calki - granica_dolna_calki);\n",
        "\n",
        "        wynik = funkcja(xi);\n",
        "        printf(\"Wynik procesu %d to = %f \\n\", numer_procesu,wynik);\n",
        "        MPI_Send(&wynik, 1, MPI_DOUBLE, 0, tag, MPI_COMM_WORLD);\n",
        "    }\n",
        "\n",
        "    MPI_Finalize();\n",
        "}\n",
        "EOF\n",
        "mpicc pi-mpi.c && mpirun -n 10 --allow-run-as-root a.out"
      ],
      "metadata": {
        "colab": {
          "base_uri": "https://localhost:8080/"
        },
        "id": "7k2JAGTzkPY3",
        "outputId": "a900df37-eaa7-43b3-9a33-ca3f2621e06e"
      },
      "execution_count": 38,
      "outputs": [
        {
          "output_type": "stream",
          "name": "stdout",
          "text": [
            "\n",
            "Wynik procesu 6 to = 7.840000 \n",
            "Wynik procesu 2 to = 2.560000 \n",
            "Wynik procesu 7 to = 9.610000 \n",
            "Wynik procesu 1 to = 1.690000 \n",
            "Wynik procesu 3 to = 3.610000 \n",
            "Wynik procesu 4 to = 4.840000 \n",
            "Wynik procesu 5 to = 6.250000 \n",
            "Wynik procesu 8 to = 11.560000 \n",
            "Wynik procesu 9 to = 13.690000 \n",
            " Wyznaczanie numerycznej wartości całki:  Wartosc calki = 21.045000\n"
          ]
        }
      ]
    },
    {
      "cell_type": "markdown",
      "source": [
        "# **Zadanie 3**\n",
        "Zadanie 3\n",
        "Zaimplementuj program mnożenia macierzy A przez wektor B\n",
        "Proces 0, to proces Root, który zarządza obliczeniami:\n",
        "- inicjuje wartości macierzy A i wektora B \n",
        "- wysyła do procesów roboczych Slave fragmenty macierzy A i wektora B \n",
        "- zbiera wyniki cząstkowe z procesów, i wyświetla wynik całki"
      ],
      "metadata": {
        "id": "aqcSfAWntjX8"
      }
    },
    {
      "cell_type": "code",
      "source": [
        "%%sh\n",
        "cat > pi-mpi.c << EOF\n",
        "#include <mpi.h>\n",
        "#include <stdio.h>\n",
        " \n",
        "\n",
        "int main(int argc, char **argv)\n",
        "{\n",
        "    \n",
        "    int i;\n",
        "    int liczba_procesow,numer_procesu;\n",
        "    int tag=50;\n",
        "    \n",
        "    MPI_Status status;\n",
        "    MPI_Init(&argc, &argv);\n",
        "    MPI_Comm_rank(MPI_COMM_WORLD, &numer_procesu);\n",
        "    MPI_Comm_size(MPI_COMM_WORLD, &liczba_procesow);\n",
        "    \n",
        "    //if proces 0 to:\n",
        "    if(numer_procesu == 0)\n",
        "    {\n",
        "\n",
        "    }\n",
        "\n",
        "    if(numer_procesu != 0)\n",
        "    {\n",
        "        \n",
        "    }\n",
        "\n",
        "    MPI_Finalize();\n",
        "}\n",
        "EOF\n",
        "mpicc pi-mpi.c && mpirun -n 10 --allow-run-as-root a.out"
      ],
      "metadata": {
        "id": "qjVkOVwxv9lb"
      },
      "execution_count": null,
      "outputs": []
    }
  ]
}